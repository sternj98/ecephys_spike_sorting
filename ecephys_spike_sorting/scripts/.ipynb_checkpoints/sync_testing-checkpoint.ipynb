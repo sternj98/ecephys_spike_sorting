{
 "cells": [
  {
   "cell_type": "markdown",
   "id": "995c5741-415c-4141-ba46-ca5ace990d31",
   "metadata": {},
   "source": [
    "## Figure out ephys-behavior syncing\n",
    "\n",
    "help from https://github.com/m-beau/NeuroPyxels/blob/master/npyx"
   ]
  },
  {
   "cell_type": "code",
   "execution_count": 1,
   "id": "b49b04f7-9d09-4c39-832b-cbad7c410319",
   "metadata": {},
   "outputs": [],
   "source": [
    "import numpy as np \n",
    "from pathlib import Path\n",
    "import os\n",
    "from matplotlib import pyplot as plt"
   ]
  },
  {
   "cell_type": "code",
   "execution_count": 2,
   "id": "b2c39259-59d0-4666-9c88-d2f573251afa",
   "metadata": {},
   "outputs": [],
   "source": [
    "def readMeta(metaPath):\n",
    "    \"\"\"\n",
    "        Function from ecephys_spike_sorting to parse meta files to get sample rates\n",
    "    \"\"\"\n",
    "    metaDict = {}\n",
    "    if metaPath.exists():\n",
    "        # print(\"meta file present\")\n",
    "        with metaPath.open() as f:\n",
    "            mdatList = f.read().splitlines()\n",
    "            # convert the list entries into key value pairs\n",
    "            for m in mdatList:\n",
    "                csList = m.split(sep='=')\n",
    "                if csList[0][0] == '~':\n",
    "                    currKey = csList[0][1:len(csList[0])]\n",
    "                else:\n",
    "                    currKey = csList[0]\n",
    "                metaDict.update({currKey: csList[1]})\n",
    "    else:\n",
    "        print(\"no meta file\")\n",
    "    return(metaDict)\n",
    "\n",
    "def read_pyfile(filepath, ignored_chars=[\" \", \"'\", \"\\\"\", \"\\n\", \"\\r\"]):\n",
    "    '''\n",
    "    From NeuroPyxels.utils.py\n",
    "    \n",
    "    Reads .py file and returns contents as dictionnary.\n",
    "    Assumes that file only has \"variable=value\" pairs, no fucntions etc\n",
    "    - filepath: str, path to file\n",
    "    - ignored_chars: list of characters to remove (only trailing and leading)\n",
    "    '''\n",
    "    filepath = Path(filepath)\n",
    "    assert filepath.exists(), f'{filepath} not found!'\n",
    "\n",
    "    params={}\n",
    "    with open(filepath) as f:\n",
    "        for ln in f.readlines():\n",
    "            assert '=' in ln, 'WARNING read_pyfile only works for list of variable=value lines!'\n",
    "            tmp = ln.split('=')\n",
    "            for i, string in enumerate(tmp):\n",
    "                string=string.strip(\"\".join(ignored_chars))\n",
    "                tmp[i]=string\n",
    "            k, val = tmp[0], tmp[1]\n",
    "            try: val = ale(val)\n",
    "            except: pass\n",
    "            params[k]=val\n",
    "\n",
    "    return params"
   ]
  },
  {
   "cell_type": "code",
   "execution_count": 3,
   "id": "dcd4c10a-2492-4a42-8eb0-eb3f63570be2",
   "metadata": {},
   "outputs": [],
   "source": [
    "def get_npix_sync(dp, output_binary = False, filt_key='highpass', unit='seconds'):\n",
    "    '''Unpacks neuropixels external input data, to align spikes to events.\n",
    "    Parameters:\n",
    "        - dp: str, datapath\n",
    "        - output_binary: bool, whether to output binary sync channel as 0/1s\n",
    "        - filt_key: str, 'highpass' or 'lowpass' (SpikeGLX: ap/lf, OIpenEphys: Neuropix-PXI-100.0/.1)\n",
    "        - unit: str, 'seconds' or 'samples', units of returned onsets/offset times\n",
    "    Returns:\n",
    "        Dictionnaries of length n_channels = number of channels where threshold crossings were found, [0-16]\n",
    "        - onsets: dict, {channel_i:np.array(onset1, onset2, ...), ...} in 'unit'\n",
    "        - offsets: dict, {channel_i:np.array(offset1, offset2, ...), ...} in 'unit'\n",
    "    '''\n",
    "    dp = Path(dp)\n",
    "    if assert_multi(dp):\n",
    "        dp=Path(get_ds_table(dp)['dp'][0])\n",
    "        print(f'Loading npix sync channel from a merged dataset - assuming temporal reference frame of dataset 0:\\n{dp}')\n",
    "\n",
    "    assert filt_key in ['highpass', 'lowpass']\n",
    "    filt_suffix = {'highpass':'ap', 'lowpass':'lf'}[filt_key]\n",
    "    assert unit in ['seconds', 'samples']\n",
    "    fname=''\n",
    "    onsets={}\n",
    "    offsets={}\n",
    "    sync_dp=dp/'sync_chan'\n",
    "    meta = read_metadata(dp)\n",
    "    srate = meta[filt_key]['sampling_rate'] if unit=='seconds' else 1\n",
    "\n",
    "    nchan=meta[filt_key]['n_channels_binaryfile']\n",
    "    dt=np.dtype(meta[filt_key]['datatype'])\n",
    "    nsamples = os.path.getsize(dp/fname) / (nchan * dt.itemsize)\n",
    "    syncdat=np.memmap(dp/fname,\n",
    "                    mode='r',\n",
    "                    dtype=dt,\n",
    "                    shape=(int(nsamples), int(nchan)))[:,-1]\n",
    "\n",
    "    print('Unpacking {}...'.format(fname))\n",
    "    binary = unpackbits(syncdat.flatten(),16).astype(np.int8)\n",
    "    sync_fname = fname[:-4]+'_sync'\n",
    "    np.savez_compressed(sync_dp/(sync_fname+'.npz'), binary)\n",
    "            \n"
   ]
  },
  {
   "cell_type": "code",
   "execution_count": 53,
   "id": "3e49d841-f8e0-4a4e-a57d-c669ae1597ef",
   "metadata": {},
   "outputs": [],
   "source": [
    "catGT_dest = r'D:\\\\ecephys_spike_sorting_output\\\\CY\\\\23\\\\211216\\\\000000\\\\test_events'\n",
    "npx_directory = r'Z:\\\\HarveyLab\\\\Tier1\\\\Cindy\\\\EphysData\\\\CY\\\\23\\\\211216\\\\000000'\n",
    "run_specs = [['CY23_LLP_20211216', '0', 'start,end', '0', ['thalamus'] ]]\n",
    "\n",
    "for these_recording_specs in run_specs:\n",
    "    # Trigger formatting thing\n",
    "    if these_recording_specs[2] == 'start,end': \n",
    "        these_recording_specs[2] = '0'\n",
    "        \n",
    "    # path to catGT output (after applying Tshift)\n",
    "    full_catGT_dest = os.path.join(catGT_dest,'catGT_' + these_recording_specs[0] + '_g' + these_recording_specs[1])\n",
    "    imec_folder = os.path.split(full_catGT_dest)[-1][6:] + '_imec' + these_recording_specs[3]\n",
    "    catGT_imec_dest = os.path.join(full_catGT_dest,imec_folder)\n",
    "    \n",
    "    # name of catGT result files\n",
    "    ap_meta_name = these_recording_specs[0] +  '_g' + these_recording_specs[1] + '_tcat.imec0.ap.meta'\n",
    "    ap_bin_name = these_recording_specs[0] +  '_g' + these_recording_specs[1] + '_tcat.imec0.ap.bin'\n",
    "    \n",
    "    # grab this to get params.py and spike times\n",
    "    ks2_results_folder = 'imec' + these_recording_specs[3] + '_ks2'\n",
    "    full_ks2_results_path = os.path.join(catGT_imec_dest,ks2_results_folder)\n",
    "    \n",
    "    # load relevant information from params.py file\n",
    "    params_path = os.path.join(full_ks2_results_path,\"params.py\")\n",
    "    params_dict = read_pyfile(params_path)\n",
    "    sglx_sample_rate = float(params_dict['sample_rate'])\n",
    "    sglx_n_channels = int(params_dict['n_channels_dat'])\n",
    "    sglx_datatype = np.dtype(params_dict['dtype'])\n",
    "    \n",
    "    # load .ap.bin sync channel w/ memmap\n",
    "    ap_bin_path = Path(os.path.join(catGT_imec_dest,ap_bin_name))\n",
    "    n_samples = os.path.getsize(ap_bin_path) / (sglx_n_channels * sglx_datatype.itemsize)\n",
    "    sglx_syncdat = np.memmap(ap_bin_path,\n",
    "                    mode='r',\n",
    "                    dtype=sglx_datatype,\n",
    "                    shape=(int(n_samples), int(sglx_n_channels)))[:,-1] # last signal is sync\n",
    "    \n",
    "    # load .nidq sync file channel \n",
    "    npx_fullpath = os.path.join(npx_directory,these_recording_specs[0] +  '_g' + these_recording_specs[1])\n",
    "    nidq_meta_name = these_recording_specs[0] + '_g' + these_recording_specs[1] + '_t' + these_recording_specs[2] + '.nidq.meta'\n",
    "    nidq_bin_name = these_recording_specs[0] + '_g' + these_recording_specs[1] + '_t' + these_recording_specs[2] + '.nidq.bin'\n",
    "    nidq_meta_path = Path(os.path.join(npx_fullpath,nidq_meta_name))\n",
    "    nidq_meta_dict = readMeta(nidq_meta_path)\n",
    "    ni_sample_rate = int(nidq_meta_dict['niSampRate'])\n",
    "    ni_n_channels = int(nidq_meta_dict['nSavedChans']) # ... this is one more than expected ... \n",
    "    ni_datatype = np.dtype('int16') # kinda a guess\n",
    "    \n",
    "    # load .nidq.bin sync channel w/ memmap\n",
    "    nidq_bin_path = Path(os.path.join(npx_fullpath,nidq_bin_name))\n",
    "    n_samples = os.path.getsize(nidq_bin_path) / (ni_n_channels * ni_datatype.itemsize)\n",
    "    ni_syncdat = np.memmap(nidq_bin_path,\n",
    "                    mode='r',\n",
    "                    dtype=ni_datatype,\n",
    "                    shape=(int(n_samples), int(ni_n_channels)))[:,-1] # last signal is sync\n",
    "    \n"
   ]
  },
  {
   "cell_type": "code",
   "execution_count": 54,
   "id": "d46e1466-57ec-41f3-90ca-ba942ff4ce85",
   "metadata": {},
   "outputs": [
    {
     "name": "stdout",
     "output_type": "stream",
     "text": [
      "52.20066722222222\n",
      "52.20041333333334\n"
     ]
    }
   ],
   "source": [
    "print(len(sglx_syncdat) / sglx_sample_rate / 60)\n",
    "print(len(ni_syncdat) / ni_sample_rate / 60)"
   ]
  },
  {
   "cell_type": "code",
   "execution_count": 56,
   "id": "a0ace98e-0ce4-4779-af5b-8a367ab52618",
   "metadata": {},
   "outputs": [
    {
     "data": {
      "text/plain": [
       "[<matplotlib.lines.Line2D at 0x1b4c5434a00>]"
      ]
     },
     "execution_count": 56,
     "metadata": {},
     "output_type": "execute_result"
    },
    {
     "data": {
      "image/png": "[encoded data removed]",
      "text/plain": [
       "<Figure size 432x288 with 1 Axes>"
      ]
     },
     "metadata": {
      "needs_background": "light"
     },
     "output_type": "display_data"
    }
   ],
   "source": [
    "plt.plot(ni_syncdat[::100])"
   ]
  },
  {
   "cell_type": "code",
   "execution_count": null,
   "id": "0dd34b2f-890f-44bd-9477-4ea2bf88a753",
   "metadata": {},
   "outputs": [],
   "source": []
  }
 ],
 "metadata": {
  "kernelspec": {
   "display_name": "Python 3",
   "language": "python",
   "name": "python3"
  },
  "language_info": {
   "codemirror_mode": {
    "name": "ipython",
    "version": 3
   },
   "file_extension": ".py",
   "mimetype": "text/x-python",
   "name": "python",
   "nbconvert_exporter": "python",
   "pygments_lexer": "ipython3",
   "version": "3.8.8"
  }
 },
 "nbformat": 4,
 "nbformat_minor": 5
}
